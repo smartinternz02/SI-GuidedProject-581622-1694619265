{
  "nbformat": 4,
  "nbformat_minor": 0,
  "metadata": {
    "colab": {
      "provenance": []
    },
    "kernelspec": {
      "name": "python3",
      "display_name": "Python 3"
    },
    "language_info": {
      "name": "python"
    }
  },
  "cells": [
    {
      "cell_type": "markdown",
      "source": [
        "### **ARYAN SHARMA                                       21BBS0106**\n",
        "### Vellore Institute of Technology (VIT), Vellore\n",
        "### Evening Slot (6P.M to 8P.M)"
      ],
      "metadata": {
        "id": "yEZTDYqT7wRK"
      }
    },
    {
      "cell_type": "markdown",
      "source": [
        "# Assignment - 1"
      ],
      "metadata": {
        "id": "QBWNekbGydbj"
      }
    },
    {
      "cell_type": "markdown",
      "source": [
        "Task 1 :\n",
        "\n",
        "Create a pandas dataframe (DataFrame name as 'df') with numpy random values (4 features and 4 observation)"
      ],
      "metadata": {
        "id": "L0EgS6jJyimx"
      }
    },
    {
      "cell_type": "code",
      "source": [
        "import pandas as pd\n",
        "import numpy as np\n",
        "\n",
        "data = np.random.randn(4, 4)\n",
        "df = pd.DataFrame(data)\n",
        "print(\"Task 1: DataFrame:\")\n",
        "print(df)"
      ],
      "metadata": {
        "colab": {
          "base_uri": "https://localhost:8080/"
        },
        "id": "wGesl9FlyxHv",
        "outputId": "e821cc83-727c-4335-8c24-341c70c4d71e"
      },
      "execution_count": null,
      "outputs": [
        {
          "output_type": "stream",
          "name": "stdout",
          "text": [
            "Task 1: DataFrame:\n",
            "          0         1         2         3\n",
            "0 -0.425566  2.362216  0.375277  0.342605\n",
            "1  0.409795 -0.133370  0.206561  0.660088\n",
            "2  0.400739 -1.137500  1.654505 -1.044264\n",
            "3  0.828268  1.362428 -0.716839  0.362412\n"
          ]
        }
      ]
    },
    {
      "cell_type": "markdown",
      "source": [],
      "metadata": {
        "id": "6QMxdzUmz7F7"
      }
    },
    {
      "cell_type": "markdown",
      "source": [
        "Task - 2:\n",
        "\n",
        "Rename the task - 1 'df dataframe column names to 'Random value 1', 'Random value 2', 'Random value 3' & 'Random value 4'"
      ],
      "metadata": {
        "id": "uDAp8ODQz71T"
      }
    },
    {
      "cell_type": "code",
      "source": [
        "df.columns = ['Random value 1', 'Random value 2', 'Random value 3', 'Random value 4']\n",
        "print(\"Task 2: Renamed columns:\")\n",
        "print(df)"
      ],
      "metadata": {
        "colab": {
          "base_uri": "https://localhost:8080/"
        },
        "id": "HIVpV0d70CI7",
        "outputId": "28a446dd-f4c2-4c5e-ad16-3efe09bc5479"
      },
      "execution_count": null,
      "outputs": [
        {
          "output_type": "stream",
          "name": "stdout",
          "text": [
            "Task 2: Renamed columns:\n",
            "   Random value 1  Random value 2  Random value 3  Random value 4\n",
            "0       -0.425566        2.362216        0.375277        0.342605\n",
            "1        0.409795       -0.133370        0.206561        0.660088\n",
            "2        0.400739       -1.137500        1.654505       -1.044264\n",
            "3        0.828268        1.362428       -0.716839        0.362412\n"
          ]
        }
      ]
    },
    {
      "cell_type": "markdown",
      "source": [
        "Task 3\n",
        "\n",
        "Find the descriptive statistics of the 'df' dataframe."
      ],
      "metadata": {
        "id": "Pj2eXCpY0QBv"
      }
    },
    {
      "cell_type": "code",
      "source": [
        "descriptive_stats = df.describe()\n",
        "print(\"Task 3: Descriptive Statistics:\")\n",
        "print(descriptive_stats)"
      ],
      "metadata": {
        "colab": {
          "base_uri": "https://localhost:8080/"
        },
        "id": "ryau37nV0UVz",
        "outputId": "fe66dbe2-7c32-4612-d190-6894d4100fa9"
      },
      "execution_count": null,
      "outputs": [
        {
          "output_type": "stream",
          "name": "stdout",
          "text": [
            "Task 3: Descriptive Statistics:\n",
            "       Random value 1  Random value 2  Random value 3  Random value 4\n",
            "count        4.000000        4.000000        4.000000        4.000000\n",
            "mean         0.303309        0.613443        0.379876        0.080210\n",
            "std          0.525253        1.553782        0.975965        0.763586\n",
            "min         -0.425566       -1.137500       -0.716839       -1.044264\n",
            "25%          0.194163       -0.384403       -0.024289       -0.004112\n",
            "50%          0.405267        0.614529        0.290919        0.352508\n",
            "75%          0.514413        1.612375        0.695084        0.436831\n",
            "max          0.828268        2.362216        1.654505        0.660088\n"
          ]
        }
      ]
    },
    {
      "cell_type": "markdown",
      "source": [
        "Task 4\n",
        "\n",
        "Check for the null values in 'df' and find the data type of the columns."
      ],
      "metadata": {
        "id": "AEV1OaBe0Pyo"
      }
    },
    {
      "cell_type": "code",
      "source": [
        "null_values = df.isnull().values.any()\n",
        "data_types = df.dtypes\n",
        "print(\"Task 4: Null Values and Data Types:\")\n",
        "print(null_values)\n",
        "print(data_types)"
      ],
      "metadata": {
        "colab": {
          "base_uri": "https://localhost:8080/"
        },
        "id": "ES6JQOHC0w93",
        "outputId": "b35ab8cf-4c72-4a35-ab92-f271c7acd1e8"
      },
      "execution_count": null,
      "outputs": [
        {
          "output_type": "stream",
          "name": "stdout",
          "text": [
            "Task 4: Null Values and Data Types:\n",
            "False\n",
            "Random value 1    float64\n",
            "Random value 2    float64\n",
            "Random value 3    float64\n",
            "Random value 4    float64\n",
            "dtype: object\n"
          ]
        }
      ]
    },
    {
      "cell_type": "markdown",
      "source": [
        "Task - 5\n",
        "\n",
        "Display the 'Random value 2' & 'Random value 3' columns with location method and index location method."
      ],
      "metadata": {
        "id": "bTLcfBFZ2gtq"
      }
    },
    {
      "cell_type": "code",
      "source": [
        "random_value_loc = df.loc[:, 'Random value 2':'Random value 3']\n",
        "random_value_idx = df.iloc[:, 1:3]\n",
        "print(\"Task 5: 'Random value 2' & 'Random value 3' Columns:\")\n",
        "print(\"Using loc:\")\n",
        "print(random_value_loc)\n",
        "print(\"\\nUsing iloc:\")\n",
        "print(random_value_idx)"
      ],
      "metadata": {
        "colab": {
          "base_uri": "https://localhost:8080/"
        },
        "id": "TMmolazw2iv2",
        "outputId": "14f65c33-7a6e-48e5-9673-83fa11dda136"
      },
      "execution_count": null,
      "outputs": [
        {
          "output_type": "stream",
          "name": "stdout",
          "text": [
            "Task 5: 'Random value 2' & 'Random value 3' Columns:\n",
            "Using loc:\n",
            "   Random value 2  Random value 3\n",
            "0        2.362216        0.375277\n",
            "1       -0.133370        0.206561\n",
            "2       -1.137500        1.654505\n",
            "3        1.362428       -0.716839\n",
            "\n",
            "Using iloc:\n",
            "   Random value 2  Random value 3\n",
            "0        2.362216        0.375277\n",
            "1       -0.133370        0.206561\n",
            "2       -1.137500        1.654505\n",
            "3        1.362428       -0.716839\n"
          ]
        }
      ]
    },
    {
      "cell_type": "markdown",
      "source": [
        " **Colab Link for the assignment:** (https://colab.research.google.com/drive/1Z5W9WTOSNfZlubZgcp1zbvoWfnHbLzvK?usp=sharing)"
      ],
      "metadata": {
        "id": "MALpojmVR3TW"
      }
    }
  ]
}